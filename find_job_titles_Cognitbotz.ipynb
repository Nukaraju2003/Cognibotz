{
  "nbformat": 4,
  "nbformat_minor": 0,
  "metadata": {
    "colab": {
      "provenance": [],
      "authorship_tag": "ABX9TyNuVx9MII7GDjNatQ/DRYfW",
      "include_colab_link": true
    },
    "kernelspec": {
      "name": "python3",
      "display_name": "Python 3"
    },
    "language_info": {
      "name": "python"
    }
  },
  "cells": [
    {
      "cell_type": "markdown",
      "metadata": {
        "id": "view-in-github",
        "colab_type": "text"
      },
      "source": [
        "<a href=\"https://colab.research.google.com/github/Nukaraju2003/Cognibotz/blob/main/find_job_titles_Cognitbotz.ipynb\" target=\"_parent\"><img src=\"https://colab.research.google.com/assets/colab-badge.svg\" alt=\"Open In Colab\"/></a>"
      ]
    },
    {
      "cell_type": "code",
      "execution_count": null,
      "metadata": {
        "colab": {
          "base_uri": "https://localhost:8080/"
        },
        "id": "6kADQOk-7qZ2",
        "outputId": "91f45487-6107-44a7-a019-26c0819bbd15"
      },
      "outputs": [
        {
          "output_type": "stream",
          "name": "stdout",
          "text": [
            "Collecting find-job-titles\n",
            "  Downloading find_job_titles-0.7.0-py2.py3-none-any.whl.metadata (3.3 kB)\n",
            "Collecting acora (from find-job-titles)\n",
            "  Downloading acora-2.5-cp310-cp310-manylinux_2_17_x86_64.manylinux2014_x86_64.manylinux_2_28_x86_64.whl.metadata (8.6 kB)\n",
            "Collecting pyahocorasick (from find-job-titles)\n",
            "  Downloading pyahocorasick-2.1.0-cp310-cp310-manylinux_2_5_x86_64.manylinux1_x86_64.manylinux_2_12_x86_64.manylinux2010_x86_64.whl.metadata (13 kB)\n",
            "Downloading find_job_titles-0.7.0-py2.py3-none-any.whl (383 kB)\n",
            "\u001b[2K   \u001b[90m━━━━━━━━━━━━━━━━━━━━━━━━━━━━━━━━━━━━━━━━\u001b[0m \u001b[32m383.1/383.1 kB\u001b[0m \u001b[31m9.6 MB/s\u001b[0m eta \u001b[36m0:00:00\u001b[0m\n",
            "\u001b[?25hDownloading acora-2.5-cp310-cp310-manylinux_2_17_x86_64.manylinux2014_x86_64.manylinux_2_28_x86_64.whl (190 kB)\n",
            "\u001b[2K   \u001b[90m━━━━━━━━━━━━━━━━━━━━━━━━━━━━━━━━━━━━━━━━\u001b[0m \u001b[32m190.8/190.8 kB\u001b[0m \u001b[31m14.4 MB/s\u001b[0m eta \u001b[36m0:00:00\u001b[0m\n",
            "\u001b[?25hDownloading pyahocorasick-2.1.0-cp310-cp310-manylinux_2_5_x86_64.manylinux1_x86_64.manylinux_2_12_x86_64.manylinux2010_x86_64.whl (110 kB)\n",
            "\u001b[2K   \u001b[90m━━━━━━━━━━━━━━━━━━━━━━━━━━━━━━━━━━━━━━━━\u001b[0m \u001b[32m110.7/110.7 kB\u001b[0m \u001b[31m8.9 MB/s\u001b[0m eta \u001b[36m0:00:00\u001b[0m\n",
            "\u001b[?25hInstalling collected packages: acora, pyahocorasick, find-job-titles\n",
            "Successfully installed acora-2.5 find-job-titles-0.7.0 pyahocorasick-2.1.0\n"
          ]
        }
      ],
      "source": [
        "!pip install find-job-titles"
      ]
    },
    {
      "cell_type": "code",
      "source": [
        "from find_job_titles import Finder\n",
        "finder = Finder()\n",
        "finder.findall('Nukaraju Neradabilli Ó +91 8639648822 R neradabillinukaraju@gmail.com W Leetcode ¯ LinkedIn  Github ® Portfolio ½ Hyderabad Career Objective Passionate software engineer and fresher with expertise in NLP, AI, ML, web development, and cloud computing. Proficient in Python, Java, HTML, CSS, JavaScript, and Flask. Experienced in speech processing and AI applications. Seeking to drive innovation and deliver impactful solutions in AI and speech processing. Technical Skills Full-Stack Development: HTML, CSS, Bootstrap, JavaScript, Flask Programming: Python (proficient), Java, C, SQL, Data Structures and Algorithms (DSA) NLP: NLTK, SpaCy, Gensim, Transformers, LLMs, Generative AI, Tokenization, Named Entity Recognition (NER), Sentiment Analysis, Topic Modeling, Text Classification, Word Embeddings Machine Learning & Deep Learning: TensorFlow, Keras, PyTorch, Scikit-Learn, NumPy, Pandas, Seaborn, Matplotlib, Regression, Classification, Clustering, Neural Networks, Decision Trees, Random Forests, SVMs Cloud Platforms: AWS, Azure Developer Tools:VS Code, GitHub, Git Professional Experience Research Intern, Speech Processing Lab | IIIT Hyderabad Jul 2024 - Present • Currently working with ASR, TTS systems (VITS), and Python libraries for audio processing (pydub, WhisperX). Intern Software Trainee, Prodify Software Solutions | Visakhapatnam Feb - May 2024 • Conducted data scraping for stocks and mutual funds from diverse sources, categorizing data by sectors, and utilized data analysis to pinpoint top-performing stocks and mutual funds based on specific criteria. ML Project Intern Enligence Technology Labs | VIT Bhimavaram May-Dec 2023 • Developed an automated grading system using speech recognition and NLP, integrating WhisperX Speaker Diarization and top Whisper models. Assessed responses with GPT-3.5-turbo and evaluated performance using MAE, RMSE, and Pearson Correlation Projects and Research Job Market Analysis Tool using live data from Naukri.com Source Code • Developed a Flask application offering insights into job demand, salary predictions, and skill enhancement, utilizing Selenium for scraping Naukri.com job postings and Automated ML on Azure for model training and deployment. NLP and AI-powered Resume Matchmaker Source Code • Developed a Streamlit app using NLP technologies (HuggingFace-BERT, Doc2Vec, Generative AI) for matching resumes with job descriptions, generating enhancement suggestions, and evaluating model precision with MSE and RMSE. Water Quality Prediction Web App using Machine Learning W Source Code • Developed a Flask web app using XGBoost to predict Water Quality Index (WQI) for East and West Godavari districts, achieving 89% accuracy in water potability after extensive analysis of 3276 samples and rigorous model testing. Educational Qualification Bachelor of Information Technology, Vishnu Institute of Technology, Bhimavaram (CGPA: 8.42) 2021 - Expected 2025 Intermediate, MPC, Sri Chaitanya College of Education, Visakhapatnam (95.2%) 2019 - 2021 Secondary Education, Jawahar Navodaya Vidyalaya (JNV), Vizianagaram (88%) 2014 - 2019 Certifications Web Development: HTML, CSS, and Javascript for Web Developers (Coursera) W NLP: DeepLearning.AI Natural Language Processing with Classification and Vector Spaces (Coursera)W IASNLP-2024: Advanced training in Natural Language Processing, IIIT Hyderabad W DSA: Data Structure And Algorithms Using Java - Score: 72%(NPTEL) W Data Science and Machine Learning: Intro to Programming W, Python W, Pandas W,Intro to Machine Learning W (Kaggle) Achievements Solved 100+ DSA problems on LeetCode, achieving a 1400+ rating. Finalist at MATHAck Hackathon by MATH at T-Hub, recognized in a social media contest. May 2024 Awarded 13.9 lakhs INR grant from the Indian government for an AI solution reducing supply chain waste in MSME Idea Hackathon2.0 2022. Jun 2023 Recognized as Best Performer by AP State Council of Higher Education and CIMSME for contributions to Innovation and Entrepreneurship. Nov 2022')"
      ],
      "metadata": {
        "colab": {
          "base_uri": "https://localhost:8080/"
        },
        "id": "W1lQ6GwE7sVO",
        "outputId": "31d5cec3-318f-4d59-bd4c-e67202c5eb6d"
      },
      "execution_count": null,
      "outputs": [
        {
          "output_type": "execute_result",
          "data": {
            "text/plain": [
              "[Match(start=1031, end=1045, match='Azure Developer'),\n",
              " Match(start=1098, end=1112, match='Research Intern'),\n",
              " Match(start=3163, end=3175, match='Web Developer')]"
            ]
          },
          "metadata": {},
          "execution_count": 6
        }
      ]
    },
    {
      "cell_type": "code",
      "source": [
        "import spacy\n",
        "from spacy.matcher import Matcher\n",
        "\n",
        "# Load English language model\n",
        "nlp = spacy.load(\"en_core_web_sm\")\n",
        "\n",
        "# Define pattern for job title format\n",
        "pattern = [{\"TEXT\": \"Job Title: \"}, {\"TEXT\": \"*\"}]\n",
        "\n",
        "# Create matcher\n",
        "matcher = Matcher(nlp.vocab)\n",
        "\n",
        "# Add pattern to matcher\n",
        "matcher.add(\"JOB_TITLE\", [pattern])\n",
        "\n",
        "# Process PDF text\n",
        "text = ...  # load PDF text from file or database\n",
        "doc = nlp(text)\n",
        "\n",
        "# Find matches\n",
        "matches = matcher(doc)\n",
        "\n",
        "# Extract title\n",
        "title = matches[0].text\n",
        "\n",
        "print(title)"
      ],
      "metadata": {
        "id": "haxxB2XCiSi6"
      },
      "execution_count": null,
      "outputs": []
    }
  ]
}